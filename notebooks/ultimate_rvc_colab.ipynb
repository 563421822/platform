{
  "cells": [
    {
      "cell_type": "markdown",
      "metadata": {
        "id": "view-in-github",
        "colab_type": "text"
      },
      "source": [
        "<a href=\"https://colab.research.google.com/github/563421822/platform/blob/master/notebooks/ultimate_rvc_colab.ipynb\" target=\"_parent\"><img src=\"https://colab.research.google.com/assets/colab-badge.svg\" alt=\"Open In Colab\"/></a>"
      ]
    },
    {
      "cell_type": "markdown",
      "metadata": {
        "id": "kmyCzJVyCymN"
      },
      "source": [
        "Colab for [Ultimate RVC](https://github.com/JackismyShephard/ultimate-rvc)\n",
        "\n",
        "This Colab notebook will **help** you if you don’t have a GPU or if your PC isn’t very powerful.\n",
        "\n",
        "Simply click `Runtime` in the top navigation bar and `Run all`. Wait for the output of the final cell to show the public gradio url and click on it.\n"
      ]
    },
    {
      "cell_type": "code",
      "execution_count": 2,
      "metadata": {
        "cellView": "form",
        "id": "uWRvbUB_t4hv",
        "outputId": "95e0da04-1e7c-4c69-c29a-5a7c4f50341f",
        "colab": {
          "base_uri": "https://localhost:8080/"
        }
      },
      "outputs": [
        {
          "output_type": "stream",
          "name": "stdout",
          "text": [
            "time: 1.8 ms (started: 2025-02-05 06:07:15 +00:00)\n"
          ]
        }
      ],
      "source": [
        "# @title 0: Initialize notebook\n",
        "%pip install ipython-autotime\n",
        "%load_ext autotime\n",
        "\n",
        "import codecs\n",
        "import os\n",
        "\n",
        "from IPython.display import clear_output\n",
        "\n",
        "clear_output()"
      ]
    },
    {
      "cell_type": "code",
      "execution_count": 3,
      "metadata": {
        "cellView": "form",
        "id": "aaokDv1VzpAX",
        "outputId": "9cd08ba1-c88f-4e17-b15c-479c0e69c4d0",
        "colab": {
          "base_uri": "https://localhost:8080/"
        }
      },
      "outputs": [
        {
          "output_type": "stream",
          "name": "stdout",
          "text": [
            "time: 1.62 s (started: 2025-02-05 06:07:34 +00:00)\n"
          ]
        }
      ],
      "source": [
        "# @title 1: Clone repository\n",
        "cloneing = codecs.decode(\n",
        "    \"uggcf://tvguho.pbz/WnpxvfzlFurcuneq/hygvzngr-eip.tvg\",\n",
        "    \"rot_13\",\n",
        ")\n",
        "\n",
        "!git clone $cloneing HRVC\n",
        "%cd /content/HRVC\n",
        "clear_output()"
      ]
    },
    {
      "cell_type": "code",
      "execution_count": 4,
      "metadata": {
        "id": "lVGNygIa0F_1",
        "outputId": "b2b072aa-3d7c-4e83-cc65-951b322b4ead",
        "colab": {
          "base_uri": "https://localhost:8080/"
        }
      },
      "outputs": [
        {
          "output_type": "stream",
          "name": "stdout",
          "text": [
            "time: 3min 42s (started: 2025-02-05 06:07:40 +00:00)\n"
          ]
        }
      ],
      "source": [
        "# @title 2: Install dependencies\n",
        "\n",
        "light = codecs.decode(\"uggcf://nfgeny.fu/hi/0.5.0/vafgnyy.fu\", \"rot_13\")\n",
        "inits = codecs.decode(\"./fep/hygvzngr_eip/pber/znva.cl\", \"rot_13\")\n",
        "\n",
        "!apt install -y python3-dev unzip\n",
        "!curl -LsSf $light | sh\n",
        "\n",
        "os.environ[\"URVC_CONSOLE_LOG_LEVEL\"] = \"WARNING\"\n",
        "!uv run -q $inits\n",
        "clear_output()"
      ]
    },
    {
      "cell_type": "code",
      "execution_count": null,
      "metadata": {
        "cellView": "form",
        "id": "lVGNygIa0F_2",
        "outputId": "96b11317-2357-450f-eb52-da89795ff818",
        "colab": {
          "base_uri": "https://localhost:8080/"
        }
      },
      "outputs": [
        {
          "output_type": "stream",
          "name": "stdout",
          "text": [
            "wangyl | epoch=43 | time=06:25:02 | speed=0:00:06 | best avg-gen-loss=7.858 (epoch 39) | overtrain countdown: g=46,d=64 | avg-gen-loss=8.466 | avg-disc-loss=0.833\n",
            "wangyl | epoch=44 | time=06:25:09 | speed=0:00:06 | best avg-gen-loss=7.858 (epoch 39) | overtrain countdown: g=45,d=63 | avg-gen-loss=7.961 | avg-disc-loss=0.853\n",
            "wangyl | epoch=45 | time=06:25:15 | speed=0:00:06 | best avg-gen-loss=7.773 (epoch 45) | overtrain countdown: g=50,d=62 | avg-gen-loss=7.773 | avg-disc-loss=0.859\n",
            "wangyl | epoch=46 | time=06:25:22 | speed=0:00:06 | best avg-gen-loss=7.773 (epoch 45) | overtrain countdown: g=49,d=61 | avg-gen-loss=8.075 | avg-disc-loss=0.864\n",
            "wangyl | epoch=47 | time=06:25:29 | speed=0:00:06 | best avg-gen-loss=7.773 (epoch 45) | overtrain countdown: g=48,d=60 | avg-gen-loss=8.332 | avg-disc-loss=0.815\n",
            "wangyl | epoch=48 | time=06:25:35 | speed=0:00:06 | best avg-gen-loss=7.773 (epoch 45) | overtrain countdown: g=47,d=59 | avg-gen-loss=8.219 | avg-disc-loss=0.860\n",
            "wangyl | epoch=49 | time=06:25:42 | speed=0:00:06 | best avg-gen-loss=7.773 (epoch 45) | overtrain countdown: g=46,d=58 | avg-gen-loss=8.365 | avg-disc-loss=0.883\n",
            "wangyl | epoch=50 | time=06:25:48 | speed=0:00:06 | best avg-gen-loss=7.773 (epoch 45) | overtrain countdown: g=45,d=57 | avg-gen-loss=8.117 | avg-disc-loss=0.862\n",
            "wangyl | epoch=51 | time=06:26:00 | speed=0:00:06 | best avg-gen-loss=7.773 (epoch 45) | overtrain countdown: g=44,d=56 | avg-gen-loss=8.093 | avg-disc-loss=0.847\n",
            "wangyl | epoch=52 | time=06:26:07 | speed=0:00:06 | best avg-gen-loss=7.773 (epoch 45) | overtrain countdown: g=43,d=55 | avg-gen-loss=8.230 | avg-disc-loss=0.854\n",
            "wangyl | epoch=53 | time=06:26:13 | speed=0:00:06 | best avg-gen-loss=7.773 (epoch 45) | overtrain countdown: g=42,d=54 | avg-gen-loss=8.045 | avg-disc-loss=0.867\n",
            "wangyl | epoch=54 | time=06:26:20 | speed=0:00:06 | best avg-gen-loss=7.773 (epoch 45) | overtrain countdown: g=41,d=53 | avg-gen-loss=8.011 | avg-disc-loss=0.880\n",
            "wangyl | epoch=55 | time=06:26:26 | speed=0:00:06 | best avg-gen-loss=7.773 (epoch 45) | overtrain countdown: g=40,d=52 | avg-gen-loss=8.377 | avg-disc-loss=0.898\n",
            "wangyl | epoch=56 | time=06:26:33 | speed=0:00:06 | best avg-gen-loss=7.773 (epoch 45) | overtrain countdown: g=39,d=51 | avg-gen-loss=8.026 | avg-disc-loss=0.883\n",
            "wangyl | epoch=57 | time=06:26:39 | speed=0:00:06 | best avg-gen-loss=7.773 (epoch 45) | overtrain countdown: g=38,d=50 | avg-gen-loss=8.121 | avg-disc-loss=0.855\n",
            "wangyl | epoch=58 | time=06:26:46 | speed=0:00:06 | best avg-gen-loss=7.773 (epoch 45) | overtrain countdown: g=37,d=49 | avg-gen-loss=8.202 | avg-disc-loss=0.829\n",
            "wangyl | epoch=59 | time=06:26:52 | speed=0:00:06 | best avg-gen-loss=7.773 (epoch 45) | overtrain countdown: g=36,d=48 | avg-gen-loss=7.900 | avg-disc-loss=0.892\n",
            "wangyl | epoch=60 | time=06:26:59 | speed=0:00:06 | best avg-gen-loss=7.773 (epoch 45) | overtrain countdown: g=35,d=47 | avg-gen-loss=8.131 | avg-disc-loss=0.890\n",
            "wangyl | epoch=61 | time=06:27:13 | speed=0:00:06 | best avg-gen-loss=7.773 (epoch 45) | overtrain countdown: g=34,d=46 | avg-gen-loss=7.781 | avg-disc-loss=0.839\n",
            "wangyl | epoch=62 | time=06:27:20 | speed=0:00:06 | best avg-gen-loss=7.773 (epoch 45) | overtrain countdown: g=33,d=45 | avg-gen-loss=8.109 | avg-disc-loss=0.863\n",
            "wangyl | epoch=63 | time=06:27:26 | speed=0:00:06 | best avg-gen-loss=7.773 (epoch 45) | overtrain countdown: g=32,d=44 | avg-gen-loss=8.329 | avg-disc-loss=0.879\n",
            "wangyl | epoch=64 | time=06:27:33 | speed=0:00:06 | best avg-gen-loss=7.773 (epoch 45) | overtrain countdown: g=31,d=43 | avg-gen-loss=7.979 | avg-disc-loss=0.894\n",
            "wangyl | epoch=65 | time=06:27:39 | speed=0:00:06 | best avg-gen-loss=7.773 (epoch 45) | overtrain countdown: g=30,d=42 | avg-gen-loss=8.034 | avg-disc-loss=0.922\n",
            "wangyl | epoch=66 | time=06:27:45 | speed=0:00:06 | best avg-gen-loss=7.773 (epoch 45) | overtrain countdown: g=29,d=41 | avg-gen-loss=8.199 | avg-disc-loss=0.853\n",
            "wangyl | epoch=67 | time=06:27:52 | speed=0:00:06 | best avg-gen-loss=7.773 (epoch 45) | overtrain countdown: g=28,d=40 | avg-gen-loss=7.807 | avg-disc-loss=0.885\n",
            "wangyl | epoch=68 | time=06:27:59 | speed=0:00:06 | best avg-gen-loss=7.773 (epoch 45) | overtrain countdown: g=27,d=39 | avg-gen-loss=7.876 | avg-disc-loss=0.818\n",
            "wangyl | epoch=69 | time=06:28:06 | speed=0:00:06 | best avg-gen-loss=7.730 (epoch 69) | overtrain countdown: g=50,d=38 | avg-gen-loss=7.730 | avg-disc-loss=0.847\n",
            "wangyl | epoch=70 | time=06:28:12 | speed=0:00:06 | best avg-gen-loss=7.730 (epoch 69) | overtrain countdown: g=49,d=37 | avg-gen-loss=8.018 | avg-disc-loss=0.843\n",
            "wangyl | epoch=71 | time=06:28:24 | speed=0:00:06 | best avg-gen-loss=7.730 (epoch 69) | overtrain countdown: g=48,d=36 | avg-gen-loss=8.341 | avg-disc-loss=0.843\n",
            "wangyl | epoch=72 | time=06:28:31 | speed=0:00:06 | best avg-gen-loss=7.730 (epoch 69) | overtrain countdown: g=47,d=35 | avg-gen-loss=8.232 | avg-disc-loss=0.820\n",
            "wangyl | epoch=73 | time=06:28:37 | speed=0:00:06 | best avg-gen-loss=7.730 (epoch 69) | overtrain countdown: g=46,d=34 | avg-gen-loss=8.277 | avg-disc-loss=0.839\n",
            "wangyl | epoch=74 | time=06:28:44 | speed=0:00:06 | best avg-gen-loss=7.730 (epoch 69) | overtrain countdown: g=45,d=33 | avg-gen-loss=8.004 | avg-disc-loss=0.845\n",
            "wangyl | epoch=75 | time=06:28:50 | speed=0:00:06 | best avg-gen-loss=7.730 (epoch 69) | overtrain countdown: g=44,d=32 | avg-gen-loss=8.069 | avg-disc-loss=0.822\n",
            "wangyl | epoch=76 | time=06:28:57 | speed=0:00:06 | best avg-gen-loss=7.730 (epoch 69) | overtrain countdown: g=43,d=31 | avg-gen-loss=8.172 | avg-disc-loss=0.838\n",
            "wangyl | epoch=77 | time=06:29:04 | speed=0:00:06 | best avg-gen-loss=7.730 (epoch 69) | overtrain countdown: g=42,d=30 | avg-gen-loss=8.015 | avg-disc-loss=0.855\n",
            "wangyl | epoch=78 | time=06:29:11 | speed=0:00:06 | best avg-gen-loss=7.730 (epoch 69) | overtrain countdown: g=41,d=29 | avg-gen-loss=8.040 | avg-disc-loss=0.856\n",
            "wangyl | epoch=79 | time=06:29:17 | speed=0:00:06 | best avg-gen-loss=7.730 (epoch 69) | overtrain countdown: g=40,d=28 | avg-gen-loss=7.872 | avg-disc-loss=0.848\n",
            "wangyl | epoch=80 | time=06:29:24 | speed=0:00:06 | best avg-gen-loss=7.730 (epoch 69) | overtrain countdown: g=39,d=27 | avg-gen-loss=8.135 | avg-disc-loss=0.837\n",
            "wangyl | epoch=81 | time=06:29:42 | speed=0:00:06 | best avg-gen-loss=7.730 (epoch 69) | overtrain countdown: g=38,d=26 | avg-gen-loss=8.255 | avg-disc-loss=0.820\n",
            "wangyl | epoch=82 | time=06:29:48 | speed=0:00:06 | best avg-gen-loss=7.730 (epoch 69) | overtrain countdown: g=37,d=25 | avg-gen-loss=8.013 | avg-disc-loss=0.842\n",
            "wangyl | epoch=83 | time=06:29:55 | speed=0:00:06 | best avg-gen-loss=7.730 (epoch 69) | overtrain countdown: g=36,d=24 | avg-gen-loss=8.289 | avg-disc-loss=0.826\n",
            "wangyl | epoch=84 | time=06:30:02 | speed=0:00:06 | best avg-gen-loss=7.730 (epoch 69) | overtrain countdown: g=35,d=23 | avg-gen-loss=7.791 | avg-disc-loss=0.848\n",
            "wangyl | epoch=85 | time=06:30:08 | speed=0:00:06 | best avg-gen-loss=7.730 (epoch 69) | overtrain countdown: g=34,d=22 | avg-gen-loss=7.952 | avg-disc-loss=0.845\n",
            "wangyl | epoch=86 | time=06:30:15 | speed=0:00:06 | best avg-gen-loss=7.730 (epoch 69) | overtrain countdown: g=33,d=21 | avg-gen-loss=8.245 | avg-disc-loss=0.878\n",
            "wangyl | epoch=87 | time=06:30:22 | speed=0:00:06 | best avg-gen-loss=7.730 (epoch 69) | overtrain countdown: g=32,d=20 | avg-gen-loss=7.789 | avg-disc-loss=0.920\n",
            "wangyl | epoch=88 | time=06:30:28 | speed=0:00:06 | best avg-gen-loss=7.730 (epoch 69) | overtrain countdown: g=31,d=19 | avg-gen-loss=7.992 | avg-disc-loss=0.838\n",
            "wangyl | epoch=89 | time=06:30:35 | speed=0:00:06 | best avg-gen-loss=7.730 (epoch 69) | overtrain countdown: g=30,d=18 | avg-gen-loss=8.006 | avg-disc-loss=0.894\n",
            "wangyl | epoch=90 | time=06:30:41 | speed=0:00:06 | best avg-gen-loss=7.730 (epoch 69) | overtrain countdown: g=29,d=17 | avg-gen-loss=7.755 | avg-disc-loss=0.866\n",
            "wangyl | epoch=91 | time=06:30:55 | speed=0:00:06 | best avg-gen-loss=7.730 (epoch 69) | overtrain countdown: g=28,d=16 | avg-gen-loss=7.860 | avg-disc-loss=0.845\n",
            "wangyl | epoch=92 | time=06:31:02 | speed=0:00:06 | best avg-gen-loss=7.730 (epoch 69) | overtrain countdown: g=27,d=15 | avg-gen-loss=8.236 | avg-disc-loss=0.833\n",
            "wangyl | epoch=93 | time=06:31:09 | speed=0:00:06 | best avg-gen-loss=7.730 (epoch 69) | overtrain countdown: g=26,d=14 | avg-gen-loss=8.016 | avg-disc-loss=0.840\n",
            "wangyl | epoch=94 | time=06:31:15 | speed=0:00:06 | best avg-gen-loss=7.730 (epoch 69) | overtrain countdown: g=25,d=13 | avg-gen-loss=8.007 | avg-disc-loss=0.826\n",
            "wangyl | epoch=95 | time=06:31:22 | speed=0:00:06 | best avg-gen-loss=7.730 (epoch 69) | overtrain countdown: g=24,d=12 | avg-gen-loss=8.260 | avg-disc-loss=0.805\n",
            "wangyl | epoch=96 | time=06:31:28 | speed=0:00:06 | best avg-gen-loss=7.730 (epoch 69) | overtrain countdown: g=23,d=11 | avg-gen-loss=8.039 | avg-disc-loss=0.819\n",
            "wangyl | epoch=97 | time=06:31:35 | speed=0:00:07 | best avg-gen-loss=7.730 (epoch 69) | overtrain countdown: g=22,d=10 | avg-gen-loss=8.092 | avg-disc-loss=0.825\n",
            "wangyl | epoch=98 | time=06:31:42 | speed=0:00:06 | best avg-gen-loss=7.730 (epoch 69) | overtrain countdown: g=21,d=9 | avg-gen-loss=7.731 | avg-disc-loss=0.838\n",
            "wangyl | epoch=99 | time=06:31:48 | speed=0:00:06 | best avg-gen-loss=7.730 (epoch 69) | overtrain countdown: g=20,d=8 | avg-gen-loss=8.019 | avg-disc-loss=0.826\n",
            "wangyl | epoch=100 | time=06:31:55 | speed=0:00:06 | best avg-gen-loss=7.730 (epoch 69) | overtrain countdown: g=19,d=7 | avg-gen-loss=8.004 | avg-disc-loss=0.835\n",
            "wangyl | epoch=101 | time=06:32:09 | speed=0:00:06 | best avg-gen-loss=7.730 (epoch 69) | overtrain countdown: g=18,d=6 | avg-gen-loss=7.878 | avg-disc-loss=0.833\n",
            "wangyl | epoch=102 | time=06:32:16 | speed=0:00:06 | best avg-gen-loss=7.730 (epoch 69) | overtrain countdown: g=17,d=5 | avg-gen-loss=8.123 | avg-disc-loss=0.834\n",
            "wangyl | epoch=103 | time=06:32:22 | speed=0:00:06 | best avg-gen-loss=7.644 (epoch 103) | overtrain countdown: g=50,d=4 | avg-gen-loss=7.644 | avg-disc-loss=0.834\n",
            "wangyl | epoch=104 | time=06:32:29 | speed=0:00:06 | best avg-gen-loss=7.644 (epoch 103) | overtrain countdown: g=49,d=3 | avg-gen-loss=8.090 | avg-disc-loss=0.808\n",
            "wangyl | epoch=105 | time=06:32:36 | speed=0:00:06 | best avg-gen-loss=7.644 (epoch 103) | overtrain countdown: g=48,d=2 | avg-gen-loss=7.668 | avg-disc-loss=0.857\n",
            "wangyl | epoch=106 | time=06:32:43 | speed=0:00:07 | best avg-gen-loss=7.644 (epoch 103) | overtrain countdown: g=47,d=1 | avg-gen-loss=7.991 | avg-disc-loss=0.801\n",
            "wangyl | epoch=107 | time=06:32:49 | speed=0:00:06 | best avg-gen-loss=7.644 (epoch 103) | overtrain countdown: g=46,d=0 | avg-gen-loss=7.832 | avg-disc-loss=0.825\n",
            "Overtraining detected at epoch 107 with average generator loss 7.832 and discriminator loss 0.825\n",
            "\u001b[1m[\u001b[0m~\u001b[1m]\u001b[0m Generating index file for trained voice model\u001b[33m...\u001b[0m\n"
          ]
        }
      ],
      "source": [
        "# @title 3: Run Ultimate RVC\n",
        "\n",
        "runpice = codecs.decode(\"./fep/hygvzngr_eip/jro/znva.cl\", \"rot_13\")\n",
        "\n",
        "!uv run $runpice --share"
      ]
    }
  ],
  "metadata": {
    "accelerator": "GPU",
    "colab": {
      "gpuType": "T4",
      "provenance": [],
      "include_colab_link": true
    },
    "kernelspec": {
      "display_name": "Python 3",
      "name": "python3"
    },
    "language_info": {
      "name": "python"
    }
  },
  "nbformat": 4,
  "nbformat_minor": 0
}